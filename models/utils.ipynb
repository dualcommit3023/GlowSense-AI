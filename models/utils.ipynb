{
 "cells": [
  {
   "cell_type": "code",
   "execution_count": null,
   "id": "6d4e19e5",
   "metadata": {},
   "outputs": [
    {
     "ename": "NameError",
     "evalue": "name 'train_loader' is not defined",
     "output_type": "error",
     "traceback": [
      "\u001b[31m---------------------------------------------------------------------------\u001b[39m",
      "\u001b[31mNameError\u001b[39m                                 Traceback (most recent call last)",
      "\u001b[36mCell\u001b[39m\u001b[36m \u001b[39m\u001b[32mIn[2]\u001b[39m\u001b[32m, line 56\u001b[39m\n\u001b[32m     44\u001b[39m     val_loader = val_gen.flow_from_dataframe(\n\u001b[32m     45\u001b[39m         dataframe=val_df,\n\u001b[32m     46\u001b[39m         x_col=\u001b[33m'\u001b[39m\u001b[33mimage\u001b[39m\u001b[33m'\u001b[39m,\n\u001b[32m   (...)\u001b[39m\u001b[32m     51\u001b[39m         shuffle=\u001b[38;5;28;01mFalse\u001b[39;00m\n\u001b[32m     52\u001b[39m     )\n\u001b[32m     54\u001b[39m     \u001b[38;5;28;01mreturn\u001b[39;00m train_loader, val_loader\n\u001b[32m---> \u001b[39m\u001b[32m56\u001b[39m \u001b[38;5;28mprint\u001b[39m(\u001b[33mf\u001b[39m\u001b[33m\"\u001b[39m\u001b[33mTrain batches: \u001b[39m\u001b[38;5;132;01m{\u001b[39;00m\u001b[38;5;28mlen\u001b[39m(\u001b[43mtrain_loader\u001b[49m)\u001b[38;5;132;01m}\u001b[39;00m\u001b[33m\"\u001b[39m)\n\u001b[32m     57\u001b[39m \u001b[38;5;28mprint\u001b[39m(\u001b[33mf\u001b[39m\u001b[33m\"\u001b[39m\u001b[33mValidation batches: \u001b[39m\u001b[38;5;132;01m{\u001b[39;00m\u001b[38;5;28mlen\u001b[39m(val_loader)\u001b[38;5;132;01m}\u001b[39;00m\u001b[33m\"\u001b[39m)\n",
      "\u001b[31mNameError\u001b[39m: name 'train_loader' is not defined"
     ]
    }
   ],
   "source": [
    "import os\n",
    "import pandas as pd\n",
    "from sklearn.model_selection import train_test_split\n",
    "from tensorflow.keras.preprocessing.image import ImageDataGenerator\n",
    "import matplotlib.pyplot as plt\n",
    "\n",
    "def get_acne_dataloaders(dataset_path='datasets/acne/preprocessed_acne', image_size=(224, 224), batch_size=32):\n",
    "    images_dir = os.path.join(dataset_path, 'images')\n",
    "    labels_dir = os.path.join(dataset_path, 'labels')\n",
    "\n",
    "    image_files = [f for f in os.listdir(images_dir) if f.lower().endswith(('.jpg', '.jpeg', '.png'))]\n",
    "\n",
    "    data = []\n",
    "    for img_file in image_files:\n",
    "        label_file = os.path.join(labels_dir, img_file.rsplit('.', 1)[0] + '.txt')\n",
    "        if os.path.exists(label_file):\n",
    "            with open(label_file, 'r') as lf:\n",
    "                label = lf.read().strip()\n",
    "                data.append({'image': os.path.join(images_dir, img_file), 'label': label})\n",
    "\n",
    "    # Convert to DataFrame\n",
    "    df = pd.DataFrame(data)\n",
    "\n",
    "    # Train-val split\n",
    "    train_df, val_df = train_test_split(df, test_size=0.2, stratify=df['label'], random_state=42)\n",
    "\n",
    "    # Generators\n",
    "    train_gen = ImageDataGenerator(rescale=1./255,\n",
    "                                   rotation_range=20,\n",
    "                                   zoom_range=0.2,\n",
    "                                   horizontal_flip=True)\n",
    "\n",
    "    val_gen = ImageDataGenerator(rescale=1./255)\n",
    "\n",
    "    train_loader = train_gen.flow_from_dataframe(\n",
    "        dataframe=train_df,\n",
    "        x_col='image',\n",
    "        y_col='label',\n",
    "        target_size=image_size,\n",
    "        class_mode='categorical',\n",
    "        batch_size=batch_size,\n",
    "        shuffle=True\n",
    "    )\n",
    "\n",
    "    val_loader = val_gen.flow_from_dataframe(\n",
    "        dataframe=val_df,\n",
    "        x_col='image',\n",
    "        y_col='label',\n",
    "        target_size=image_size,\n",
    "        class_mode='categorical',\n",
    "        batch_size=batch_size,\n",
    "        shuffle=False\n",
    "    )\n",
    "\n",
    "    return train_loader, val_loader\n",
    "\n",
    "# Show sample batch\n",
    "x_batch, y_batch = next(train_loader)\n",
    "\n",
    "plt.figure(figsize=(10, 6))\n",
    "for i in range(6):\n",
    "    plt.subplot(2, 3, i+1)\n",
    "    plt.imshow(x_batch[i])\n",
    "    plt.title(f\"Label: {train_loader.class_indices}\")\n",
    "    plt.axis(\"off\")\n",
    "plt.tight_layout()\n",
    "plt.show()\n",
    "\n"
   ]
  }
 ],
 "metadata": {
  "kernelspec": {
   "display_name": "Python 3",
   "language": "python",
   "name": "python3"
  },
  "language_info": {
   "codemirror_mode": {
    "name": "ipython",
    "version": 3
   },
   "file_extension": ".py",
   "mimetype": "text/x-python",
   "name": "python",
   "nbconvert_exporter": "python",
   "pygments_lexer": "ipython3",
   "version": "3.12.2"
  }
 },
 "nbformat": 4,
 "nbformat_minor": 5
}
